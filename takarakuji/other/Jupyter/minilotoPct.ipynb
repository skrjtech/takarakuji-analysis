{
 "cells": [
  {
   "cell_type": "code",
   "execution_count": 1,
   "id": "3ba67d95-9a7a-464b-90d7-7acf1e3fdf9b",
   "metadata": {},
   "outputs": [],
   "source": [
    "import re\n",
    "import pandas as pd\n",
    "from pprint import pprint\n",
    "import numpy as np\n",
    "import itertools"
   ]
  },
  {
   "cell_type": "code",
   "execution_count": 2,
   "id": "2f527a1c-a951-468f-a03a-e50f10096d19",
   "metadata": {},
   "outputs": [],
   "source": [
    "def pctTable(resampleData):\n",
    "    pctList = []\n",
    "    valuesnum = len([1 for key in resampleData.columns if \"val\" in key])\n",
    "    for idx in range(valuesnum):\n",
    "        sample = pd.Series([0.0] * 31, index=list(range(1, 31+1)))\n",
    "        valCol = resampleData.values[:, idx].astype(int)\n",
    "        for v in valCol:\n",
    "            sample[v] += 1\n",
    "        sample /= len(valCol)\n",
    "        pctList.append(sample)\n",
    "    pctList = np.vstack(pctList).T\n",
    "    dfpct = pd.DataFrame(pctList, index=sample.index)\n",
    "    return dfpct"
   ]
  },
  {
   "cell_type": "code",
   "execution_count": 3,
   "id": "9d95b0fc-5c6f-4ea9-9df4-95b6f7312c2f",
   "metadata": {},
   "outputs": [],
   "source": [
    "def pctRank(data, num: int=2):\n",
    "    s = data.sort_values()\n",
    "    s = s.drop(s[s==0].index)\n",
    "    rank = []\n",
    "    count = 0\n",
    "    index = 0\n",
    "    while count != num:\n",
    "        try:\n",
    "            flag = s.duplicated()[::-1].iloc[index]\n",
    "            if not flag:\n",
    "                count += 1\n",
    "            rank.append(s[::-1].index[index])\n",
    "            index += 1\n",
    "        except:\n",
    "            break\n",
    "    return rank"
   ]
  },
  {
   "cell_type": "code",
   "execution_count": 4,
   "id": "43cd9728-f9c8-4a7f-ae47-ad36e841fc75",
   "metadata": {},
   "outputs": [],
   "source": [
    "def CheckResult(data):\n",
    "    _, data = data\n",
    "    dfpct = pctTable(data)\n",
    "    rank = list(map(pctRank, [dfpct[i] for i in range(5)]))\n",
    "    kumi = list(map(list, itertools.product(*rank)))\n",
    "    count = 0\n",
    "    for i in range(len(kumi)):\n",
    "        fmt = \" & \".join([f\"val{idx+1}=={val}\" for idx, val in enumerate(kumi[i])])\n",
    "        if len(data.query(fmt)) == 1:\n",
    "            count += 1\n",
    "    pct = count / len(data)\n",
    "    return len(kumi), pct"
   ]
  },
  {
   "cell_type": "code",
   "execution_count": 5,
   "id": "78439e85-1a22-471d-9a7d-02dfac49644e",
   "metadata": {},
   "outputs": [],
   "source": [
    "def main(sampling: str=\"A\", rank: int=2):\n",
    "    chikan = re.compile(\"[年月日]\")\n",
    "    df = pd.read_csv(\"miniloto.csv\")\n",
    "    df[\"date\"] = pd.to_datetime(df[\"date\"].map(lambda x: str(x).replace(\"年\", \"-\").replace(\"月\", \"-\").replace(\"日\", \"-\")))\n",
    "    df = df.drop_duplicates(\"date\")\n",
    "    df = df.set_index(\"date\")\n",
    "    df = df.dropna()\n",
    "    resample = df.copy()\n",
    "    resample = resample.drop(\"count\", axis=1)\n",
    "    resample = resample.drop(\"bornas\", axis=1)\n",
    "    resample = resample.astype(int)\n",
    "    Colums = len(resample.keys())\n",
    "    resample = list(resample.resample(sampling))\n",
    "    T = resample[:-1]\n",
    "    T_1 = resample[1:]\n",
    "    print(\"Start Analysis\")\n",
    "    for idx in range(len(T)):\n",
    "        try:\n",
    "            t = T[idx]\n",
    "            t_1 = T_1[idx]\n",
    "            DateTime, Values = t\n",
    "            DateTime1, Values1 = t_1\n",
    "            dfpct = pctTable(Values)\n",
    "            rank = list(map(lambda x: pctRank(x, rank), [dfpct[i] for i in range(Colums)]))\n",
    "            kumi = list(map(list, itertools.product(*rank)))\n",
    "            count = 0\n",
    "            print(\"Check PCT Start: \", len(kumi))\n",
    "            for i in range(len(kumi)):\n",
    "                fmt = \" & \".join([f\"val{idx+1}=={val}\" for idx, val in enumerate(kumi[i])])\n",
    "                if len(Values1.query(fmt)) == 1:\n",
    "                    count += 1\n",
    "                print(f\"Run... {i+1}/{len(kumi)}\\r\", end=\"\")\n",
    "            pct = count / len(Values1)\n",
    "            print(DateTime1, len(kumi), pct)\n",
    "            print(\"Check PCT END: \", f\"{idx + 1} / {len(T)}\")\n",
    "            print(\"-\" * 50)\n",
    "        except:\n",
    "            pass\n",
    "    print(\"END Analysis\")"
   ]
  },
  {
   "cell_type": "code",
   "execution_count": 1,
   "id": "fb494cf4-1158-459b-88e1-ab69954f52ef",
   "metadata": {},
   "outputs": [
    {
     "data": {
      "text/plain": [
       "26800"
      ]
     },
     "execution_count": 1,
     "metadata": {},
     "output_type": "execute_result"
    }
   ],
   "source": [
    "200 * 134"
   ]
  },
  {
   "cell_type": "code",
   "execution_count": null,
   "id": "dae5fbe2-36b5-4f8d-9e14-be5fe25f0f66",
   "metadata": {},
   "outputs": [],
   "source": []
  }
 ],
 "metadata": {
  "kernelspec": {
   "display_name": "Python 3 (ipykernel)",
   "language": "python",
   "name": "python3"
  },
  "language_info": {
   "codemirror_mode": {
    "name": "ipython",
    "version": 3
   },
   "file_extension": ".py",
   "mimetype": "text/x-python",
   "name": "python",
   "nbconvert_exporter": "python",
   "pygments_lexer": "ipython3",
   "version": "3.10.4"
  }
 },
 "nbformat": 4,
 "nbformat_minor": 5
}
