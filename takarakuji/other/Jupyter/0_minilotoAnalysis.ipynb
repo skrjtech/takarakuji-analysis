{
 "cells": [
  {
   "cell_type": "code",
   "execution_count": 1,
   "id": "8910da25-97d8-4e0f-9706-0587b352807f",
   "metadata": {},
   "outputs": [],
   "source": [
    "import re\n",
    "import pandas as pd\n",
    "from pprint import pprint\n",
    "import numpy as np\n",
    "import itertools"
   ]
  },
  {
   "cell_type": "code",
   "execution_count": null,
   "id": "a6f41e81-a1f8-44f7-aa31-fbfd04e51d1b",
   "metadata": {},
   "outputs": [],
   "source": [
    "def Kumiawase(array) -> np.asarray:\n",
    "    return np.array([*map(list, itertools.product(*array.T.tolist()))][::-1])"
   ]
  },
  {
   "cell_type": "code",
   "execution_count": null,
   "id": "28e83b2a-1211-44b8-99a4-a20495da305c",
   "metadata": {},
   "outputs": [],
   "source": [
    "def Kounyusu(maisu, kuchisu, kingaku: int=200):\n",
    "    A = maisu // kuchisu\n",
    "    B = kuchisu * A\n",
    "    return B, maisu - B, f\"{maisu * kingaku:,}\""
   ]
  },
  {
   "cell_type": "code",
   "execution_count": null,
   "id": "a5d4ff7e-1ade-41e7-9d21-307afc2038cf",
   "metadata": {},
   "outputs": [],
   "source": [
    "def pctRank(data, ranknum=3):\n",
    "    Result = []\n",
    "    columns = list(data.keys())\n",
    "    sereas = pd.Series(data.values.reshape(-1))\n",
    "    for idx in sereas.value_counts().index.values:\n",
    "        df_counttop = data == idx\n",
    "        df_counttop = np.sum(df_counttop)\n",
    "        df_counttop = (df_counttop / df_counttop.sum()).values\n",
    "        Result.append(np.concatenate([[idx], df_counttop]))\n",
    "    Result = np.vstack(Result)\n",
    "    Result = pd.DataFrame(Result, columns=[\"number\"] + columns)\n",
    "    Result = np.vstack([Result.sort_values(key)[\"number\"].values[-ranknum:].astype(int) for key in columns]).T\n",
    "    return Result"
   ]
  },
  {
   "cell_type": "code",
   "execution_count": null,
   "id": "33f0be2c-1aa4-4970-a095-ae27293005c5",
   "metadata": {},
   "outputs": [],
   "source": [
    "def main():\n",
    "    chikan = re.compile(\"[年月日]\")\n",
    "    df = pd.read_csv(\"miniloto.csv\")\n",
    "    df[\"date\"] = pd.to_datetime(df[\"date\"].map(lambda x: str(x).replace(\"年\", \"-\").replace(\"月\", \"-\").replace(\"日\", \"-\")))\n",
    "    df = df.drop(\"bornas\", axis=1)\n",
    "    df = df.drop(\"count\", axis=1)\n",
    "    df = df.drop_duplicates(\"date\")\n",
    "    df = df.set_index(\"date\")\n",
    "    df = df.dropna()\n",
    "    df = df.astype(int)\n",
    "    resampleDate, resampleValue = [], []\n",
    "    for D, V in list(df.resample(\"Q\")):\n",
    "        if len(V) == 0:\n",
    "            continue\n",
    "        resampleDate.append(D)\n",
    "        resampleValue.append(V)\n",
    "    pctRank(df)\n",
    "    Result = np.vstack(list(map(lambda x: pctRank(x, 6), resampleValue)))\n",
    "    Result = pctRank(pd.DataFrame(Result, columns=[\"val1\", \"val2\", \"val3\", \"val4\", \"val5\"]), 3)\n",
    "    Result\n",
    "    kumi = Kumiawase(Result)\n",
    "    Row, Col = Result.shape\n",
    "    print(Kounyusu(Row**Col, 25))\n",
    "    rescount = 0\n",
    "    for idx in range(len(kumi) // 1000):\n",
    "        try:\n",
    "            k = kumi[idx * 1000: (idx + 1) * 1000]\n",
    "            query = \" | \".join(list(map(lambda x: \" & \".join([f\"val{idx + 1}=={val}\" for idx, val in enumerate(x)]), k)))\n",
    "            result = df.query(query)\n",
    "            rescount += len(result)\n",
    "        except:\n",
    "            break\n",
    "    print(rescount)"
   ]
  },
  {
   "cell_type": "code",
   "execution_count": null,
   "id": "4c7d406b-8703-4d4c-8b3d-b1e0c413958a",
   "metadata": {},
   "outputs": [],
   "source": [
    "def test():\n",
    "    chikan = re.compile(\"[年月日]\")\n",
    "    df = pd.read_csv(\"miniloto.csv\")\n",
    "    df[\"date\"] = pd.to_datetime(df[\"date\"].map(lambda x: str(x).replace(\"年\", \"-\").replace(\"月\", \"-\").replace(\"日\", \"-\")))\n",
    "    df = df.drop(\"bornas\", axis=1)\n",
    "    df = df.drop(\"count\", axis=1)\n",
    "    df = df.drop_duplicates(\"date\")\n",
    "    df = df.set_index(\"date\")\n",
    "    df = df.dropna()\n",
    "    df = df.astype(int)\n",
    "    \n",
    "    pctRank(df, 3)\n",
    "    \n",
    "    values = df.values\n",
    "    values_t = values[:-1]\n",
    "    values_t1 = values[1:]\n",
    "    print(len(values_t), len(values_t1))\n",
    "    values_col_l = df.values[:, :-1]\n",
    "    values_col_r = df.values[:, 1:]\n",
    "    print(len(values_col_l), len(values_col_r))\n",
    "    coldiff = np.abs(values_col_r - values_col_l)\n",
    "    rowdiff = np.abs(values_t1 - values_t)\n",
    "    \n",
    "    pctRank(pd.DataFrame(rowdiff), 3)\n",
    "    pctRank(pd.DataFrame(coldiff), 3)\n",
    "    "
   ]
  },
  {
   "cell_type": "code",
   "execution_count": null,
   "id": "5a370d55-3c0f-4b64-8689-fd4306a534aa",
   "metadata": {},
   "outputs": [],
   "source": []
  }
 ],
 "metadata": {
  "kernelspec": {
   "display_name": "Python 3 (ipykernel)",
   "language": "python",
   "name": "python3"
  },
  "language_info": {
   "codemirror_mode": {
    "name": "ipython",
    "version": 3
   },
   "file_extension": ".py",
   "mimetype": "text/x-python",
   "name": "python",
   "nbconvert_exporter": "python",
   "pygments_lexer": "ipython3",
   "version": "3.10.4"
  }
 },
 "nbformat": 4,
 "nbformat_minor": 5
}
