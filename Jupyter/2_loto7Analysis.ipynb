{
 "cells": [
  {
   "cell_type": "code",
   "execution_count": 1,
   "id": "8910da25-97d8-4e0f-9706-0587b352807f",
   "metadata": {},
   "outputs": [],
   "source": [
    "import re\n",
    "import pandas as pd\n",
    "from pprint import pprint\n",
    "import numpy as np\n",
    "import itertools"
   ]
  },
  {
   "cell_type": "code",
   "execution_count": 2,
   "id": "c2bd179b-f740-40dd-9355-f66f8b9829b8",
   "metadata": {},
   "outputs": [],
   "source": [
    "def Kumiawase(array) -> np.asarray:\n",
    "    return np.array([*map(list, itertools.product(*array.T.tolist()))][::-1])"
   ]
  },
  {
   "cell_type": "code",
   "execution_count": 3,
   "id": "a0d22d6b-b120-44fb-a385-b1e2cf0d40d7",
   "metadata": {},
   "outputs": [],
   "source": [
    "def Kounyusu(maisu, kuchisu, kingaku: int=200):\n",
    "    A = maisu // kuchisu\n",
    "    B = kuchisu * A\n",
    "    return B, maisu - B, f\"{maisu * kingaku:,}\""
   ]
  },
  {
   "cell_type": "code",
   "execution_count": 4,
   "id": "855f5cea-38ee-484e-847f-538071ddee4e",
   "metadata": {},
   "outputs": [],
   "source": [
    "def pctRank(data, ranknum=3):\n",
    "    Result = []\n",
    "    columns = list(data.keys())\n",
    "    sereas = pd.Series(data.values.reshape(-1))\n",
    "    for idx in sereas.value_counts().index.values:\n",
    "        df_counttop = data == idx\n",
    "        df_counttop = np.sum(df_counttop)\n",
    "        df_counttop = (df_counttop / df_counttop.sum()).values\n",
    "        Result.append(np.concatenate([[idx], df_counttop]))\n",
    "    Result = np.vstack(Result)\n",
    "    Result = pd.DataFrame(Result, columns=[\"number\"] + columns)\n",
    "    Result = np.vstack([Result.sort_values(key)[\"number\"].values[-ranknum:].astype(int) for key in columns]).T\n",
    "    return Result"
   ]
  },
  {
   "cell_type": "code",
   "execution_count": 5,
   "id": "c56318cf-1f81-4c57-a461-bd76d05e3e8c",
   "metadata": {},
   "outputs": [],
   "source": [
    "chikan = re.compile(\"[年月日]\")\n",
    "df = pd.read_csv(\"loto7.csv\")\n",
    "df[\"date\"] = pd.to_datetime(df[\"date\"].map(lambda x: str(x).replace(\"年\", \"-\").replace(\"月\", \"-\").replace(\"日\", \"-\")))\n",
    "df = df.drop(\"bornas1\", axis=1)\n",
    "df = df.drop(\"bornas2\", axis=1)\n",
    "df = df.drop(\"count\", axis=1)\n",
    "df = df.drop_duplicates(\"date\")\n",
    "df = df.set_index(\"date\")\n",
    "df = df.dropna()\n",
    "df = df.astype(int)\n",
    "resampleDate, resampleValue = [], []\n",
    "for D, V in list(df.resample(\"Q\")):\n",
    "    if len(V) == 0:\n",
    "        continue\n",
    "    resampleDate.append(D)\n",
    "    resampleValue.append(V)"
   ]
  },
  {
   "cell_type": "code",
   "execution_count": 6,
   "id": "752fdd07-1abd-47ed-900a-df8ebf409805",
   "metadata": {},
   "outputs": [
    {
     "data": {
      "text/plain": [
       "array([[ 3,  7, 11, 15, 24, 29, 35],\n",
       "       [ 2,  6, 14, 17, 26, 33, 36],\n",
       "       [ 1,  5, 12, 18, 28, 30, 37]])"
      ]
     },
     "execution_count": 6,
     "metadata": {},
     "output_type": "execute_result"
    }
   ],
   "source": [
    "Result = np.vstack(list(map(lambda x: pctRank(x, 6), resampleValue)))\n",
    "Result = pctRank(pd.DataFrame(Result, columns=[\"val1\", \"val2\", \"val3\", \"val4\", \"val5\", \"val6\", \"val7\"]), 3)\n",
    "Result"
   ]
  },
  {
   "cell_type": "code",
   "execution_count": 7,
   "id": "334e1c4a-8c2d-473a-b46e-57efe2d0fb3a",
   "metadata": {},
   "outputs": [
    {
     "name": "stdout",
     "output_type": "stream",
     "text": [
      "(2175, 12, '437,400')\n"
     ]
    },
    {
     "data": {
      "text/plain": [
       "0"
      ]
     },
     "execution_count": 7,
     "metadata": {},
     "output_type": "execute_result"
    }
   ],
   "source": [
    "kumi = Kumiawase(Result)\n",
    "Row, Col = Result.shape\n",
    "print(Kounyusu(Row**Col, 25))\n",
    "rescount = 0\n",
    "for idx in range(len(kumi) // 1000):\n",
    "    try:\n",
    "        k = kumi[idx * 1000: (idx + 1) * 1000]\n",
    "        query = \" | \".join(list(map(lambda x: \" & \".join([f\"val{idx + 1}=={val}\" for idx, val in enumerate(x)]), k)))\n",
    "        result = df.query(query)\n",
    "        rescount += len(result)\n",
    "    except:\n",
    "        break\n",
    "rescount"
   ]
  },
  {
   "cell_type": "code",
   "execution_count": 8,
   "id": "5ce56e64-9db1-417d-b00d-fefe1072c232",
   "metadata": {},
   "outputs": [
    {
     "data": {
      "text/plain": [
       "0"
      ]
     },
     "execution_count": 8,
     "metadata": {},
     "output_type": "execute_result"
    }
   ],
   "source": [
    "rescount"
   ]
  },
  {
   "cell_type": "code",
   "execution_count": null,
   "id": "5d9fdfe6-87e9-499d-b19e-71219c8a2fd7",
   "metadata": {},
   "outputs": [],
   "source": []
  }
 ],
 "metadata": {
  "kernelspec": {
   "display_name": "Python 3 (ipykernel)",
   "language": "python",
   "name": "python3"
  },
  "language_info": {
   "codemirror_mode": {
    "name": "ipython",
    "version": 3
   },
   "file_extension": ".py",
   "mimetype": "text/x-python",
   "name": "python",
   "nbconvert_exporter": "python",
   "pygments_lexer": "ipython3",
   "version": "3.10.4"
  }
 },
 "nbformat": 4,
 "nbformat_minor": 5
}
