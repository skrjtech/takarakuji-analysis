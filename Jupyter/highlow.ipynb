{
 "cells": [
  {
   "cell_type": "code",
   "execution_count": 1,
   "id": "5496f9bb-cb26-4767-896f-14865b3d068d",
   "metadata": {},
   "outputs": [],
   "source": [
    "import re\n",
    "import time\n",
    "import random\n",
    "import pandas as pd\n",
    "from bs4 import BeautifulSoup\n",
    "from selenium import webdriver\n",
    "from tqdm.notebook import tqdm\n",
    "from webdriver_manager.chrome import ChromeDriverManager\n",
    "from selenium.webdriver.chrome.service import Service\n",
    "from selenium.webdriver.common.by import By"
   ]
  },
  {
   "cell_type": "code",
   "execution_count": 2,
   "id": "49f59e8d-54a1-4814-a2f7-b12b96e55ce0",
   "metadata": {},
   "outputs": [],
   "source": [
    "chikan = re.compile('[ (\\n)]')"
   ]
  },
  {
   "cell_type": "code",
   "execution_count": 3,
   "id": "3f54833f-3122-493e-b3d1-b40b3fbb8740",
   "metadata": {},
   "outputs": [],
   "source": [
    "def startUp():\n",
    "    options = webdriver.ChromeOptions()\n",
    "    # options.add_argument('--headless')\n",
    "    service = Service(executable_path=ChromeDriverManager().install())\n",
    "    driver = webdriver.Chrome(service=service, options=options)\n",
    "    return driver"
   ]
  },
  {
   "cell_type": "code",
   "execution_count": 4,
   "id": "894af01a-4d41-4278-be66-c483669a6a6e",
   "metadata": {},
   "outputs": [],
   "source": [
    "TopUrl = \"https://highlow.com/\""
   ]
  },
  {
   "cell_type": "code",
   "execution_count": 16,
   "id": "3ecc0bb7-f49c-449d-8aa3-c1610ecb1fd5",
   "metadata": {},
   "outputs": [],
   "source": [
    "driver = startUp()\n",
    "driver.get(TopUrl)"
   ]
  },
  {
   "cell_type": "code",
   "execution_count": 20,
   "id": "b4936e32-2e3e-4875-9fbf-a15191a3669b",
   "metadata": {},
   "outputs": [],
   "source": [
    "quickDemo = \"body > div.page-content > div.status-bar.sticky-strip > div > div > span > span > a\"\n",
    "click = driver.find_element(By.CSS_SELECTOR, quickDemo)\n",
    "click.click()"
   ]
  },
  {
   "cell_type": "code",
   "execution_count": 22,
   "id": "e49fdba7-f995-4e7e-82f1-5d0334b86e8b",
   "metadata": {},
   "outputs": [],
   "source": [
    "answer = \"#root > div > div.SecondaryBanner_container__1dK5N.GuidedTourInvitationBanner_readyToTradeBanner__Zx9Vd.SecondaryBanner_enter__1PYvo > div > div.SecondaryBanner_closeButton__1iz3l > svg\"\n",
    "click = driver.find_element(By.CSS_SELECTOR, answer)\n",
    "click.click()"
   ]
  },
  {
   "cell_type": "code",
   "execution_count": 23,
   "id": "ccb0feaa-5f68-4344-9176-a320a11bab32",
   "metadata": {},
   "outputs": [],
   "source": [
    "highButton = \"#TradePanel_oneClickHighButton__3OAFf > div\"\n",
    "lowButton = \"#TradePanel_oneClickLowButton__3Oq9p > div\"\n",
    "oneclick = \"#scroll_panel_1_content > div.App_tradeArea__1rrhJ > div > div.App_tradeForm__3vFhv > div > div.TradePanel_footer__37dl2 > div.TradePanel_label__2ivNV > div > svg\"\n",
    "driver.find_element(By.CSS_SELECTOR, oneclick).click()"
   ]
  },
  {
   "cell_type": "code",
   "execution_count": 11,
   "id": "e4e5658a-2e6d-4a84-904f-d4129711263e",
   "metadata": {},
   "outputs": [],
   "source": [
    "def GetPrice(driver):\n",
    "    priceInfo = \"#scroll_panel_1_content > div.App_tradeArea__1rrhJ > div > div.App_chart__1TMEu > div.ChartInfo_chartInfo__2JqPK.ChartInfo_container__1N5nc.App_chartInfo__FBBmM > div.ChartInfo_optionAssetContainer__3bPBB > div > div:nth-child(2)\"\n",
    "    html = driver.page_source.encode(\"utf-8\")\n",
    "    soup = BeautifulSoup(html, \"html.parser\")\n",
    "    tables = soup.select_one(priceInfo)\n",
    "    return float(chikan.sub(\"\", tables.text))"
   ]
  },
  {
   "cell_type": "code",
   "execution_count": 12,
   "id": "3a240736-3ba3-4503-946e-3a078003e72e",
   "metadata": {},
   "outputs": [],
   "source": [
    "def Retry(driver, Button):\n",
    "    while True:\n",
    "        driver.find_element(By.CSS_SELECTOR, Button).click()\n",
    "        time.sleep(0.125)\n",
    "        html = driver.page_source.encode(\"utf-8\")\n",
    "        soup = BeautifulSoup(html, \"html.parser\")\n",
    "        tables = soup.select_one(\"#root > div > div.Toasts_container__3FULM.App_toasts__2BOdb\").text\n",
    "        tables = chikan.sub(\"\", tables)\n",
    "        if len(tables) == 0:\n",
    "            break"
   ]
  },
  {
   "cell_type": "code",
   "execution_count": 25,
   "id": "4e9936e8-6c05-4628-bbf5-79952ebfe498",
   "metadata": {},
   "outputs": [],
   "source": [
    "index = 0\n",
    "while True:\n",
    "    try:\n",
    "        if random.randint(0, 1):\n",
    "            Retry(driver, highButton)\n",
    "        else:\n",
    "            Retry(driver, lowButton)\n",
    "        time.sleep(30)\n",
    "    except KeyboardInterrupt:\n",
    "        break\n",
    "    except:\n",
    "        time.sleep(0.125)\n",
    "        continue\n",
    "    if index == 10:\n",
    "        break\n",
    "    index += 1"
   ]
  },
  {
   "cell_type": "code",
   "execution_count": 14,
   "id": "d633959a-ca66-45fb-a516-998fea3847f2",
   "metadata": {},
   "outputs": [],
   "source": [
    "cookies = driver.get_cookies()"
   ]
  },
  {
   "cell_type": "code",
   "execution_count": 21,
   "id": "865f205c-eea5-4126-ac42-a87cb80b578c",
   "metadata": {},
   "outputs": [],
   "source": [
    "for cookie in cookies: driver.add_cookie(cookie)"
   ]
  },
  {
   "cell_type": "code",
   "execution_count": 26,
   "id": "ec7975b9-e72a-43bc-8e90-7cdfcd59cb72",
   "metadata": {},
   "outputs": [],
   "source": [
    "driver.quit()"
   ]
  },
  {
   "cell_type": "code",
   "execution_count": null,
   "id": "5b10941d-7722-4c7f-848d-d416ae847e2e",
   "metadata": {},
   "outputs": [],
   "source": []
  }
 ],
 "metadata": {
  "kernelspec": {
   "display_name": "Python 3 (ipykernel)",
   "language": "python",
   "name": "python3"
  },
  "language_info": {
   "codemirror_mode": {
    "name": "ipython",
    "version": 3
   },
   "file_extension": ".py",
   "mimetype": "text/x-python",
   "name": "python",
   "nbconvert_exporter": "python",
   "pygments_lexer": "ipython3",
   "version": "3.10.4"
  }
 },
 "nbformat": 4,
 "nbformat_minor": 5
}
