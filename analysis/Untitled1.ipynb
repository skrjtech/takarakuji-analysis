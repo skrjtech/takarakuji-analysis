{
 "cells": [
  {
   "cell_type": "code",
   "execution_count": 1,
   "id": "a9956eb3-709f-4a07-b6b4-024b374ec886",
   "metadata": {},
   "outputs": [],
   "source": [
    "import torch\n",
    "from torch import nn,optim\n",
    "from torch.utils.data import DataLoader, TensorDataset, Dataset\n",
    "from torchvision import transforms\n",
    "# from torchinfo import summary #torchinfoはニューラルネットの中身を見れるのでおすすめ\n",
    "import numpy as np\n",
    "import matplotlib.pyplot as plt\n",
    "%matplotlib inline\n",
    "import pandas as pd\n",
    "import os\n",
    "import random\n",
    "from sklearn.preprocessing import MinMaxScaler"
   ]
  },
  {
   "cell_type": "code",
   "execution_count": 2,
   "id": "ef93bf3b-981b-4b72-8ba0-b1a680dd67e1",
   "metadata": {},
   "outputs": [],
   "source": [
    "seed = 10\n",
    "torch.manual_seed(seed)\n",
    "torch.cuda.manual_seed(seed)\n",
    "\n",
    "df = pd.read_csv(\"miniloto.csv\")\n",
    "df[\"date\"] = pd.to_datetime(df[\"date\"].map(lambda x: str(x).replace(\"年\", \"-\").replace(\"月\", \"-\").replace(\"日\", \"-\")))\n",
    "df = df.drop_duplicates(\"date\")\n",
    "df = df.set_index(\"date\")\n",
    "df = df.dropna()\n",
    "\n",
    "\n",
    "values = 5\n",
    "valColm = [f\"val{i}\" for i in range(1, values+1)]\n",
    "data = df[valColm].astype(int)"
   ]
  },
  {
   "cell_type": "code",
   "execution_count": 3,
   "id": "8e43d035-7469-4448-bfac-d31e6746bb71",
   "metadata": {},
   "outputs": [],
   "source": [
    "scaler = MinMaxScaler(feature_range = (0, 1))\n",
    "df_scaled = scaler.fit_transform(data)"
   ]
  },
  {
   "cell_type": "code",
   "execution_count": 4,
   "id": "157652b0-fcd4-44e1-8ec3-d9f73c2ce9c8",
   "metadata": {},
   "outputs": [
    {
     "data": {
      "text/plain": [
       "array([[0.        , 0.04166667, 0.53846154, 0.61538462, 0.71428571],\n",
       "       [0.04347826, 0.375     , 0.34615385, 0.65384615, 0.95238095],\n",
       "       [0.        , 0.25      , 0.26923077, 0.76923077, 0.95238095],\n",
       "       ...,\n",
       "       [0.08695652, 0.125     , 0.15384615, 0.53846154, 0.47619048],\n",
       "       [0.08695652, 0.33333333, 0.30769231, 0.34615385, 0.19047619],\n",
       "       [0.        , 0.125     , 0.53846154, 0.57692308, 0.61904762]])"
      ]
     },
     "execution_count": 4,
     "metadata": {},
     "output_type": "execute_result"
    }
   ],
   "source": [
    "df_scaled"
   ]
  },
  {
   "cell_type": "code",
   "execution_count": 5,
   "id": "88cd4cac-1dde-4c85-9d7f-97420a57bc14",
   "metadata": {},
   "outputs": [
    {
     "name": "stdout",
     "output_type": "stream",
     "text": [
      "train size: 711, test size: 305 \n"
     ]
    }
   ],
   "source": [
    "train_size = int(len(df_scaled) * 0.70) #学習サイズ(100個)\n",
    "test_size = len(df_scaled) - train_size #全データから学習サイズを引けばテストサイズになる\n",
    "train = df_scaled[0:train_size,:] #全データから学習の個所を抜粋\n",
    "test = df_scaled[train_size:len(df_scaled),:] #全データからテストの個所を抜粋\n",
    "print(\"train size: {}, test size: {} \".format(len(train), len(test)))"
   ]
  },
  {
   "cell_type": "code",
   "execution_count": 44,
   "id": "23830e57-263e-4266-a1b9-04ae9342baf9",
   "metadata": {},
   "outputs": [
    {
     "name": "stdout",
     "output_type": "stream",
     "text": [
      "(705, 5)\n",
      "(705, 5)\n"
     ]
    }
   ],
   "source": [
    "time_stemp = 5 #今回は10個のシーケンシャルデータを1固まりとするので10を設定\n",
    "n_sample = train_size - time_stemp - 1 #学習予測サンプルはt=10~99なので89個\n",
    "\n",
    "#シーケンシャルデータの固まり数、シーケンシャルデータの長さ、RNN_cellへの入力次元(1次元)に形を成形\n",
    "input_data = np.zeros((n_sample, time_stemp)) #シーケンシャルデータを格納する箱を用意(入力)\n",
    "correct_input_data = np.zeros((n_sample, time_stemp)) #シーケンシャルデータを格納する箱を用意(正解)\n",
    "\n",
    "print(input_data.shape)\n",
    "print(correct_input_data.shape)"
   ]
  },
  {
   "cell_type": "code",
   "execution_count": 45,
   "id": "433ca5c8-a7f8-4b66-b713-bb6d5c857fdc",
   "metadata": {},
   "outputs": [],
   "source": [
    "for i in range(n_sample - 1):\n",
    "    input_data[i] = df_scaled[i]\n",
    "    correct_input_data[i] = df_scaled[i + 1]\n",
    "\n",
    "input_data = torch.tensor(input_data.reshape(-1, 5, 1), dtype=torch.float) #Tensor化(入力)\n",
    "correct_data = torch.tensor(correct_input_data, dtype=torch.float) #Tensor化(正解)\n",
    "dataset = torch.utils.data.TensorDataset(input_data, correct_data) #データセット作成\n",
    "train_loader = DataLoader(dataset, batch_size=32, shuffle=True) #データローダー作成"
   ]
  },
  {
   "cell_type": "code",
   "execution_count": 58,
   "id": "2bff7db1-9f56-4220-808e-9aaddfe0e869",
   "metadata": {},
   "outputs": [
    {
     "name": "stdout",
     "output_type": "stream",
     "text": [
      "My_rnn_net(\n",
      "  (rnn): RNN(1, 64, num_layers=3, batch_first=True)\n",
      "  (fc): Linear(in_features=64, out_features=5, bias=True)\n",
      ")\n"
     ]
    }
   ],
   "source": [
    "class My_rnn_net(nn.Module):\n",
    "    def __init__(self, input_size, output_size, hidden_dim, n_layers):\n",
    "        super(My_rnn_net, self).__init__()\n",
    "\n",
    "        self.input_size = input_size #入力データ(x)\n",
    "        self.hidden_dim = hidden_dim #隠れ層データ(hidden)\n",
    "        self.n_layers = n_layers #RNNを「上方向に」何層重ねるか？の設定 ※横方向ではない\n",
    "        \"\"\"\n",
    "        PyTorchのRNNユニット。batch_first=Trueでバッチサイズを最初にくるように設定\n",
    "        また、先程示した図ではRNN_cellが複数あったがここではRNNが1個しかない。\n",
    "　　　　 つまりこの「nn.RNN」は複数のRNN_cellをひとまとめにしたものである。\n",
    "　　　　 ※シーケンシャルデータと初期値のhiddenだけ入れてあげれば内部で勝手に計算してくれる\n",
    "　　　　 ※出力部は各時刻毎に出力されるが、下で述べているように最後の時刻しか使用しない\n",
    "        \"\"\"\n",
    "        self.rnn = nn.RNN(input_size, hidden_dim, n_layers, batch_first=True)\n",
    "        self.fc = nn.Linear(hidden_dim, output_size) #全結合層でhiddenからの出力を1個にする\n",
    "\n",
    "    def forward(self, x):\n",
    "        #h0 = torch.zeros(self.n_layers, x.size(0), self.hidden_dim).to(device)\n",
    "        #y_rnn, h = self.rnn(x, h0)\n",
    "        y_rnn, h = self.rnn(x, None) #hidden部分はコメントアウトした↑2行と同じ意味になっている。\n",
    "\n",
    "        y = self.fc(y_rnn[:, -1, :]) #最後の時刻の出力だけを使用するので「-1」としている\n",
    "\n",
    "        return y\n",
    "\n",
    "#RNNの設定\n",
    "n_inputs  = 1\n",
    "n_outputs = 5\n",
    "n_hidden  = 64 #隠れ層(hidden)を64個に設定\n",
    "n_layers  = 3\n",
    "\n",
    "net = My_rnn_net(n_inputs, n_outputs, n_hidden, n_layers) #RNNをインスタンス化\n",
    "print(net) #作成したRNNの層を簡易表示\n",
    "\n",
    "#おすすめのtorchinfoでさらに見やすく表示\n",
    "batch_size = 32\n",
    "# summary(net, (batch_size, 10, 1))"
   ]
  },
  {
   "cell_type": "code",
   "execution_count": 59,
   "id": "50b4665d-2f83-4a94-803d-dcbdc542b1d3",
   "metadata": {},
   "outputs": [
    {
     "data": {
      "text/plain": [
       "tensor([[ 0.0457,  0.0696,  0.1571, -0.0338, -0.1370]],\n",
       "       grad_fn=<AddmmBackward0>)"
      ]
     },
     "execution_count": 59,
     "metadata": {},
     "output_type": "execute_result"
    }
   ],
   "source": [
    "net(torch.rand(1, 5, 1))"
   ]
  },
  {
   "cell_type": "code",
   "execution_count": 60,
   "id": "3613edf9-3e75-44a2-a98a-83b5ef7591ee",
   "metadata": {},
   "outputs": [],
   "source": [
    "loss_fnc = nn.MSELoss() #損失関数はMSE\n",
    "optimizer = optim.Adam(net.parameters(), lr=0.001) #オプティマイザはAdam\n",
    "loss_record = [] #lossの推移記録用\n",
    "device = torch.device(\"cuda:0\" if torch.cuda. is_available() else \"cpu\")  #デバイス(GPU or CPU)設定 \n",
    "epochs = 2000 #エポック数"
   ]
  },
  {
   "cell_type": "code",
   "execution_count": 61,
   "id": "7295cf1a-389b-41aa-aae7-ee0eb49c06d3",
   "metadata": {},
   "outputs": [
    {
     "data": {
      "text/plain": [
       "My_rnn_net(\n",
       "  (rnn): RNN(1, 64, num_layers=3, batch_first=True)\n",
       "  (fc): Linear(in_features=64, out_features=5, bias=True)\n",
       ")"
      ]
     },
     "execution_count": 61,
     "metadata": {},
     "output_type": "execute_result"
    }
   ],
   "source": [
    "net.to(device) #モデルをGPU(CPU)へ"
   ]
  },
  {
   "cell_type": "code",
   "execution_count": 62,
   "id": "ba331fd9-c20d-4891-a63e-0137602ed5c5",
   "metadata": {},
   "outputs": [
    {
     "name": "stderr",
     "output_type": "stream",
     "text": [
      "/tmp/ipykernel_34480/1140821471.py:22: UserWarning: To copy construct from a tensor, it is recommended to use sourceTensor.clone().detach() or sourceTensor.clone().detach().requires_grad_(True), rather than torch.tensor(sourceTensor).\n",
      "  x = torch.tensor(input_train) #最新の10個のデータを取り出してTensor化\n"
     ]
    },
    {
     "name": "stdout",
     "output_type": "stream",
     "text": [
      "Epoch: 0 Loss_Train: 0.08970630950415912 eval: 0.3404255319148936\n"
     ]
    },
    {
     "name": "stderr",
     "output_type": "stream",
     "text": [
      "/tmp/ipykernel_34480/1140821471.py:22: UserWarning: To copy construct from a tensor, it is recommended to use sourceTensor.clone().detach() or sourceTensor.clone().detach().requires_grad_(True), rather than torch.tensor(sourceTensor).\n",
      "  x = torch.tensor(input_train) #最新の10個のデータを取り出してTensor化\n"
     ]
    },
    {
     "name": "stdout",
     "output_type": "stream",
     "text": [
      "Epoch: 100 Loss_Train: 0.03803934343159199 eval: 0.37446808510638296\n"
     ]
    },
    {
     "name": "stderr",
     "output_type": "stream",
     "text": [
      "/tmp/ipykernel_34480/1140821471.py:22: UserWarning: To copy construct from a tensor, it is recommended to use sourceTensor.clone().detach() or sourceTensor.clone().detach().requires_grad_(True), rather than torch.tensor(sourceTensor).\n",
      "  x = torch.tensor(input_train) #最新の10個のデータを取り出してTensor化\n"
     ]
    },
    {
     "name": "stdout",
     "output_type": "stream",
     "text": [
      "Epoch: 200 Loss_Train: 0.03878204160086487 eval: 0.375886524822695\n"
     ]
    },
    {
     "name": "stderr",
     "output_type": "stream",
     "text": [
      "/tmp/ipykernel_34480/1140821471.py:22: UserWarning: To copy construct from a tensor, it is recommended to use sourceTensor.clone().detach() or sourceTensor.clone().detach().requires_grad_(True), rather than torch.tensor(sourceTensor).\n",
      "  x = torch.tensor(input_train) #最新の10個のデータを取り出してTensor化\n"
     ]
    },
    {
     "name": "stdout",
     "output_type": "stream",
     "text": [
      "Epoch: 300 Loss_Train: 0.03916867676636447 eval: 0.3801418439716312\n"
     ]
    },
    {
     "name": "stderr",
     "output_type": "stream",
     "text": [
      "/tmp/ipykernel_34480/1140821471.py:22: UserWarning: To copy construct from a tensor, it is recommended to use sourceTensor.clone().detach() or sourceTensor.clone().detach().requires_grad_(True), rather than torch.tensor(sourceTensor).\n",
      "  x = torch.tensor(input_train) #最新の10個のデータを取り出してTensor化\n"
     ]
    },
    {
     "name": "stdout",
     "output_type": "stream",
     "text": [
      "Epoch: 400 Loss_Train: 0.042761975737369576 eval: 0.3645390070921986\n"
     ]
    },
    {
     "name": "stderr",
     "output_type": "stream",
     "text": [
      "/tmp/ipykernel_34480/1140821471.py:22: UserWarning: To copy construct from a tensor, it is recommended to use sourceTensor.clone().detach() or sourceTensor.clone().detach().requires_grad_(True), rather than torch.tensor(sourceTensor).\n",
      "  x = torch.tensor(input_train) #最新の10個のデータを取り出してTensor化\n"
     ]
    },
    {
     "name": "stdout",
     "output_type": "stream",
     "text": [
      "Epoch: 500 Loss_Train: 0.038283577107864876 eval: 0.375886524822695\n"
     ]
    },
    {
     "name": "stderr",
     "output_type": "stream",
     "text": [
      "/tmp/ipykernel_34480/1140821471.py:22: UserWarning: To copy construct from a tensor, it is recommended to use sourceTensor.clone().detach() or sourceTensor.clone().detach().requires_grad_(True), rather than torch.tensor(sourceTensor).\n",
      "  x = torch.tensor(input_train) #最新の10個のデータを取り出してTensor化\n"
     ]
    },
    {
     "name": "stdout",
     "output_type": "stream",
     "text": [
      "Epoch: 600 Loss_Train: 0.03747205525312735 eval: 0.375886524822695\n"
     ]
    },
    {
     "name": "stderr",
     "output_type": "stream",
     "text": [
      "/tmp/ipykernel_34480/1140821471.py:22: UserWarning: To copy construct from a tensor, it is recommended to use sourceTensor.clone().detach() or sourceTensor.clone().detach().requires_grad_(True), rather than torch.tensor(sourceTensor).\n",
      "  x = torch.tensor(input_train) #最新の10個のデータを取り出してTensor化\n"
     ]
    },
    {
     "name": "stdout",
     "output_type": "stream",
     "text": [
      "Epoch: 700 Loss_Train: 0.03778689759580985 eval: 0.375886524822695\n"
     ]
    },
    {
     "name": "stderr",
     "output_type": "stream",
     "text": [
      "/tmp/ipykernel_34480/1140821471.py:22: UserWarning: To copy construct from a tensor, it is recommended to use sourceTensor.clone().detach() or sourceTensor.clone().detach().requires_grad_(True), rather than torch.tensor(sourceTensor).\n",
      "  x = torch.tensor(input_train) #最新の10個のデータを取り出してTensor化\n"
     ]
    },
    {
     "name": "stdout",
     "output_type": "stream",
     "text": [
      "Epoch: 800 Loss_Train: 0.041929344282202095 eval: 0.37163120567375885\n"
     ]
    },
    {
     "name": "stderr",
     "output_type": "stream",
     "text": [
      "/tmp/ipykernel_34480/1140821471.py:22: UserWarning: To copy construct from a tensor, it is recommended to use sourceTensor.clone().detach() or sourceTensor.clone().detach().requires_grad_(True), rather than torch.tensor(sourceTensor).\n",
      "  x = torch.tensor(input_train) #最新の10個のデータを取り出してTensor化\n"
     ]
    },
    {
     "name": "stdout",
     "output_type": "stream",
     "text": [
      "Epoch: 900 Loss_Train: 0.03735723314077958 eval: 0.375886524822695\n"
     ]
    },
    {
     "name": "stderr",
     "output_type": "stream",
     "text": [
      "/tmp/ipykernel_34480/1140821471.py:22: UserWarning: To copy construct from a tensor, it is recommended to use sourceTensor.clone().detach() or sourceTensor.clone().detach().requires_grad_(True), rather than torch.tensor(sourceTensor).\n",
      "  x = torch.tensor(input_train) #最新の10個のデータを取り出してTensor化\n"
     ]
    },
    {
     "name": "stdout",
     "output_type": "stream",
     "text": [
      "Epoch: 1000 Loss_Train: 0.037984072676171425 eval: 0.375886524822695\n"
     ]
    },
    {
     "name": "stderr",
     "output_type": "stream",
     "text": [
      "/tmp/ipykernel_34480/1140821471.py:22: UserWarning: To copy construct from a tensor, it is recommended to use sourceTensor.clone().detach() or sourceTensor.clone().detach().requires_grad_(True), rather than torch.tensor(sourceTensor).\n",
      "  x = torch.tensor(input_train) #最新の10個のデータを取り出してTensor化\n"
     ]
    },
    {
     "name": "stdout",
     "output_type": "stream",
     "text": [
      "Epoch: 1100 Loss_Train: 0.0374406173258372 eval: 0.3702127659574468\n"
     ]
    },
    {
     "name": "stderr",
     "output_type": "stream",
     "text": [
      "/tmp/ipykernel_34480/1140821471.py:22: UserWarning: To copy construct from a tensor, it is recommended to use sourceTensor.clone().detach() or sourceTensor.clone().detach().requires_grad_(True), rather than torch.tensor(sourceTensor).\n",
      "  x = torch.tensor(input_train) #最新の10個のデータを取り出してTensor化\n"
     ]
    },
    {
     "name": "stdout",
     "output_type": "stream",
     "text": [
      "Epoch: 1200 Loss_Train: 0.03772758522435375 eval: 0.3801418439716312\n"
     ]
    },
    {
     "name": "stderr",
     "output_type": "stream",
     "text": [
      "/tmp/ipykernel_34480/1140821471.py:22: UserWarning: To copy construct from a tensor, it is recommended to use sourceTensor.clone().detach() or sourceTensor.clone().detach().requires_grad_(True), rather than torch.tensor(sourceTensor).\n",
      "  x = torch.tensor(input_train) #最新の10個のデータを取り出してTensor化\n"
     ]
    },
    {
     "name": "stdout",
     "output_type": "stream",
     "text": [
      "Epoch: 1300 Loss_Train: 0.04018267551841943 eval: 0.37446808510638296\n"
     ]
    },
    {
     "name": "stderr",
     "output_type": "stream",
     "text": [
      "/tmp/ipykernel_34480/1140821471.py:22: UserWarning: To copy construct from a tensor, it is recommended to use sourceTensor.clone().detach() or sourceTensor.clone().detach().requires_grad_(True), rather than torch.tensor(sourceTensor).\n",
      "  x = torch.tensor(input_train) #最新の10個のデータを取り出してTensor化\n"
     ]
    },
    {
     "name": "stdout",
     "output_type": "stream",
     "text": [
      "Epoch: 1400 Loss_Train: 0.038517471321898956 eval: 0.375886524822695\n"
     ]
    },
    {
     "name": "stderr",
     "output_type": "stream",
     "text": [
      "/tmp/ipykernel_34480/1140821471.py:22: UserWarning: To copy construct from a tensor, it is recommended to use sourceTensor.clone().detach() or sourceTensor.clone().detach().requires_grad_(True), rather than torch.tensor(sourceTensor).\n",
      "  x = torch.tensor(input_train) #最新の10個のデータを取り出してTensor化\n"
     ]
    },
    {
     "name": "stdout",
     "output_type": "stream",
     "text": [
      "Epoch: 1500 Loss_Train: 0.03826950425687044 eval: 0.375886524822695\n"
     ]
    },
    {
     "name": "stderr",
     "output_type": "stream",
     "text": [
      "/tmp/ipykernel_34480/1140821471.py:22: UserWarning: To copy construct from a tensor, it is recommended to use sourceTensor.clone().detach() or sourceTensor.clone().detach().requires_grad_(True), rather than torch.tensor(sourceTensor).\n",
      "  x = torch.tensor(input_train) #最新の10個のデータを取り出してTensor化\n"
     ]
    },
    {
     "name": "stdout",
     "output_type": "stream",
     "text": [
      "Epoch: 1600 Loss_Train: 0.03776915824931601 eval: 0.375886524822695\n"
     ]
    },
    {
     "name": "stderr",
     "output_type": "stream",
     "text": [
      "/tmp/ipykernel_34480/1140821471.py:22: UserWarning: To copy construct from a tensor, it is recommended to use sourceTensor.clone().detach() or sourceTensor.clone().detach().requires_grad_(True), rather than torch.tensor(sourceTensor).\n",
      "  x = torch.tensor(input_train) #最新の10個のデータを取り出してTensor化\n"
     ]
    },
    {
     "name": "stdout",
     "output_type": "stream",
     "text": [
      "Epoch: 1700 Loss_Train: 0.03991316841996234 eval: 0.375886524822695\n"
     ]
    },
    {
     "name": "stderr",
     "output_type": "stream",
     "text": [
      "/tmp/ipykernel_34480/1140821471.py:22: UserWarning: To copy construct from a tensor, it is recommended to use sourceTensor.clone().detach() or sourceTensor.clone().detach().requires_grad_(True), rather than torch.tensor(sourceTensor).\n",
      "  x = torch.tensor(input_train) #最新の10個のデータを取り出してTensor化\n"
     ]
    },
    {
     "name": "stdout",
     "output_type": "stream",
     "text": [
      "Epoch: 1800 Loss_Train: 0.03861230951936349 eval: 0.3702127659574468\n"
     ]
    },
    {
     "name": "stderr",
     "output_type": "stream",
     "text": [
      "/tmp/ipykernel_34480/1140821471.py:22: UserWarning: To copy construct from a tensor, it is recommended to use sourceTensor.clone().detach() or sourceTensor.clone().detach().requires_grad_(True), rather than torch.tensor(sourceTensor).\n",
      "  x = torch.tensor(input_train) #最新の10個のデータを取り出してTensor化\n"
     ]
    },
    {
     "name": "stdout",
     "output_type": "stream",
     "text": [
      "Epoch: 1900 Loss_Train: 0.047628883434378586 eval: 0.36879432624113473\n"
     ]
    },
    {
     "name": "stderr",
     "output_type": "stream",
     "text": [
      "/tmp/ipykernel_34480/1140821471.py:22: UserWarning: To copy construct from a tensor, it is recommended to use sourceTensor.clone().detach() or sourceTensor.clone().detach().requires_grad_(True), rather than torch.tensor(sourceTensor).\n",
      "  x = torch.tensor(input_train) #最新の10個のデータを取り出してTensor化\n"
     ]
    },
    {
     "name": "stdout",
     "output_type": "stream",
     "text": [
      "Epoch: 2000 Loss_Train: 0.03760800555186427 eval: 0.3702127659574468\n"
     ]
    }
   ],
   "source": [
    "for i in range(epochs+1):\n",
    "    net.train() #学習モード\n",
    "    running_loss =0.0 #記録用loss初期化\n",
    "    for j, (x, t) in enumerate(train_loader): #データローダからバッチ毎に取り出す\n",
    "        x = x.to(device) * torch.rand_like(x) #シーケンシャルデータをバッチサイズ分だけGPUへ\n",
    "        optimizer.zero_grad() #勾配を初期化\n",
    "        y = net(x) #RNNで予測\n",
    "        y = y.to('cpu') #予測結果をCPUに戻す\n",
    "        loss = loss_fnc(y, t) #MSEでloss計算\n",
    "        loss.backward()  #逆伝番        \n",
    "        optimizer.step()  #勾配を更新        \n",
    "        running_loss += loss.item()  #バッチごとのlossを足していく\n",
    "    running_loss /= j+1 #lossを平均化\n",
    "    loss_record.append(running_loss) #記録用のlistにlossを加える\n",
    "\n",
    "    \"\"\"以下RNNの学習の経過を可視化するコード\"\"\"\n",
    "    if i%100 == 0: #今回は100エポック毎に学習がどう進んだか？を表示させる\n",
    "        input_train = input_data[0].reshape(-1, 5, 1) #まず最初にt＝0～9をlist化しておく\n",
    "        net.eval() #予測モード\n",
    "        result = []\n",
    "        for k in range(n_sample): #学習させる点の数だけループ\n",
    "            x = torch.tensor(input_train) #最新の10個のデータを取り出してTensor化\n",
    "            x = x.reshape(1, time_stemp, 1) #予測なので当然バッチサイズは1\n",
    "            x = x.to(device).float() #GPUへ\n",
    "            y = net(x) #予測\n",
    "            y = y.to('cpu') #結果をCPUへ戻す\n",
    "            \n",
    "            y_ = scaler.inverse_transform(y.detach().numpy()).astype(int)\n",
    "            t = scaler.inverse_transform(correct_data[k].reshape(1, -1).detach().numpy())\n",
    "            res = np.mean(np.sum(y_ == t, axis=-1))\n",
    "            result.append(res)\n",
    "            input_train = y.detach().numpy()\n",
    "        print('Epoch:', i, 'Loss_Train:', running_loss, 'eval:', np.mean(result))"
   ]
  },
  {
   "cell_type": "code",
   "execution_count": 53,
   "id": "fdd73ead-d1cd-49e9-ab2e-395c86d6653b",
   "metadata": {},
   "outputs": [
    {
     "data": {
      "text/plain": [
       "[<matplotlib.lines.Line2D at 0x7f238aaebc10>]"
      ]
     },
     "execution_count": 53,
     "metadata": {},
     "output_type": "execute_result"
    },
    {
     "data": {
      "image/png": "[encoded data removed]",
      "text/plain": [
       "<Figure size 432x288 with 1 Axes>"
      ]
     },
     "metadata": {
      "needs_background": "light"
     },
     "output_type": "display_data"
    }
   ],
   "source": [
    "plt.plot(loss_record)"
   ]
  },
  {
   "cell_type": "code",
   "execution_count": 67,
   "id": "c19c1b1b-7ce7-429a-b2f3-be8974179c17",
   "metadata": {},
   "outputs": [
    {
     "name": "stdout",
     "output_type": "stream",
     "text": [
      "[[ 5 11 16 21 26]]\n",
      "[[ 1  2  3  4 10]]\n"
     ]
    }
   ],
   "source": [
    "index = -1\n",
    "x = input_data[index].reshape(1, -1)\n",
    "x = torch.tensor(input_train) #最新の10個のデータを取り出してTensor化\n",
    "x = x.reshape(1, time_stemp, 1) #予測なので当然バッチサイズは1\n",
    "x = x.to(device).float() #GPUへ\n",
    "y = net(x) #予測\n",
    "y = y.to('cpu') #結果をCPUへ戻す\n",
    "\n",
    "y_ = scaler.inverse_transform(y.detach().numpy()).astype(int)\n",
    "t = scaler.inverse_transform(correct_data[index].reshape(1, -1).detach().numpy()).astype(int)\n",
    "print(y_)\n",
    "print(t)"
   ]
  },
  {
   "cell_type": "code",
   "execution_count": null,
   "id": "d71af880-bc2f-47cc-b3ee-8000fc55ca18",
   "metadata": {},
   "outputs": [],
   "source": []
  },
  {
   "cell_type": "code",
   "execution_count": null,
   "id": "69d68bff-ff0c-4754-95a8-5cdad9f00954",
   "metadata": {},
   "outputs": [],
   "source": []
  }
 ],
 "metadata": {
  "kernelspec": {
   "display_name": "Python 3 (ipykernel)",
   "language": "python",
   "name": "python3"
  },
  "language_info": {
   "codemirror_mode": {
    "name": "ipython",
    "version": 3
   },
   "file_extension": ".py",
   "mimetype": "text/x-python",
   "name": "python",
   "nbconvert_exporter": "python",
   "pygments_lexer": "ipython3",
   "version": "3.10.4"
  }
 },
 "nbformat": 4,
 "nbformat_minor": 5
}
